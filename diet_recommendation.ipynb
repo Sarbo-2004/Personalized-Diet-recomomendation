{
 "cells": [
  {
   "cell_type": "code",
   "execution_count": 2,
   "metadata": {},
   "outputs": [],
   "source": [
    "import pandas as pd\n",
    "import numpy as np\n",
    "import matplotlib.pyplot as plt\n",
    "import seaborn as sns"
   ]
  },
  {
   "cell_type": "code",
   "execution_count": 3,
   "metadata": {},
   "outputs": [
    {
     "data": {
      "text/html": [
       "<div>\n",
       "<style scoped>\n",
       "    .dataframe tbody tr th:only-of-type {\n",
       "        vertical-align: middle;\n",
       "    }\n",
       "\n",
       "    .dataframe tbody tr th {\n",
       "        vertical-align: top;\n",
       "    }\n",
       "\n",
       "    .dataframe thead th {\n",
       "        text-align: right;\n",
       "    }\n",
       "</style>\n",
       "<table border=\"1\" class=\"dataframe\">\n",
       "  <thead>\n",
       "    <tr style=\"text-align: right;\">\n",
       "      <th></th>\n",
       "      <th>name</th>\n",
       "      <th>image_url</th>\n",
       "      <th>description</th>\n",
       "      <th>cuisine</th>\n",
       "      <th>course</th>\n",
       "      <th>diet</th>\n",
       "      <th>prep_time</th>\n",
       "      <th>ingredients</th>\n",
       "      <th>instructions</th>\n",
       "      <th>Calories</th>\n",
       "    </tr>\n",
       "  </thead>\n",
       "  <tbody>\n",
       "    <tr>\n",
       "      <th>0</th>\n",
       "      <td>Thayir Semiya Recipe (Curd Semiya)</td>\n",
       "      <td>https://www.archanaskitchen.com/images/archana...</td>\n",
       "      <td>Thayir Semiya or Curd Vermicelli is a quick di...</td>\n",
       "      <td>Indian</td>\n",
       "      <td>Lunch</td>\n",
       "      <td>Vegetarian</td>\n",
       "      <td>Total in 35 M</td>\n",
       "      <td>1/2 cup Semiya (Vermicelli), roasted\\t\\t\\t\\t\\t...</td>\n",
       "      <td>To begin making the Thayir Semiya recipe, firs...</td>\n",
       "      <td>350</td>\n",
       "    </tr>\n",
       "    <tr>\n",
       "      <th>1</th>\n",
       "      <td>Chettinad Style Kara Kuzhambu Recipe with Pota...</td>\n",
       "      <td>https://www.archanaskitchen.com/images/archana...</td>\n",
       "      <td>Chettinad Style Kara Kuzhambu Recipe with Pot...</td>\n",
       "      <td>South Indian Recipes</td>\n",
       "      <td>Lunch</td>\n",
       "      <td>Vegetarian</td>\n",
       "      <td>Total in 75 M</td>\n",
       "      <td>For ground masala\\n\\n\\t\\t\\t\\t\\t\\t\\t \\t\\t1/4 te...</td>\n",
       "      <td>To begin making the Chettinad Style Kara Kuzha...</td>\n",
       "      <td>300</td>\n",
       "    </tr>\n",
       "    <tr>\n",
       "      <th>2</th>\n",
       "      <td>Goan Chana Ros Recipe (White Peas Curry)</td>\n",
       "      <td>https://www.archanaskitchen.com/images/archana...</td>\n",
       "      <td>Goan Chana Ros is a vegetarian dish from Goan ...</td>\n",
       "      <td>Goan Recipes</td>\n",
       "      <td>Lunch</td>\n",
       "      <td>Vegetarian</td>\n",
       "      <td>Total in 530 M</td>\n",
       "      <td>1/2 cup Dried Green Peas (Vatana), soaked over...</td>\n",
       "      <td>To prepare Goan Chana Ros recipe, soak the whi...</td>\n",
       "      <td>420</td>\n",
       "    </tr>\n",
       "    <tr>\n",
       "      <th>3</th>\n",
       "      <td>Minced Meat And Egg Croquettes Recipe</td>\n",
       "      <td>https://www.archanaskitchen.com/images/archana...</td>\n",
       "      <td>The croquette is usually cigar shaped or cylin...</td>\n",
       "      <td>North Indian Recipes</td>\n",
       "      <td>Appetizer</td>\n",
       "      <td>Non Vegeterian</td>\n",
       "      <td>Total in 55 M</td>\n",
       "      <td>500 grams Mutton, minced\\t\\t\\t\\t\\t\\t\\t \\t\\n\\n\\...</td>\n",
       "      <td>To begin making the Minced Meat And Egg Croque...</td>\n",
       "      <td>500</td>\n",
       "    </tr>\n",
       "    <tr>\n",
       "      <th>4</th>\n",
       "      <td>Thekera Tenga Recipe</td>\n",
       "      <td>https://www.archanaskitchen.com/images/archana...</td>\n",
       "      <td>Thekera Tenga is a Sour curry from Assamese cu...</td>\n",
       "      <td>Assamese</td>\n",
       "      <td>Dinner</td>\n",
       "      <td>Vegetarian</td>\n",
       "      <td>Total in 30 M</td>\n",
       "      <td>4 Potatoes (Aloo), thinly sliced\\t\\t\\t\\t\\t\\t\\t...</td>\n",
       "      <td>To begin making the Thekera Tenga recipe, Heat...</td>\n",
       "      <td>300</td>\n",
       "    </tr>\n",
       "  </tbody>\n",
       "</table>\n",
       "</div>"
      ],
      "text/plain": [
       "                                                name  \\\n",
       "0                 Thayir Semiya Recipe (Curd Semiya)   \n",
       "1  Chettinad Style Kara Kuzhambu Recipe with Pota...   \n",
       "2           Goan Chana Ros Recipe (White Peas Curry)   \n",
       "3              Minced Meat And Egg Croquettes Recipe   \n",
       "4                               Thekera Tenga Recipe   \n",
       "\n",
       "                                           image_url  \\\n",
       "0  https://www.archanaskitchen.com/images/archana...   \n",
       "1  https://www.archanaskitchen.com/images/archana...   \n",
       "2  https://www.archanaskitchen.com/images/archana...   \n",
       "3  https://www.archanaskitchen.com/images/archana...   \n",
       "4  https://www.archanaskitchen.com/images/archana...   \n",
       "\n",
       "                                         description               cuisine  \\\n",
       "0  Thayir Semiya or Curd Vermicelli is a quick di...                Indian   \n",
       "1   Chettinad Style Kara Kuzhambu Recipe with Pot...  South Indian Recipes   \n",
       "2  Goan Chana Ros is a vegetarian dish from Goan ...          Goan Recipes   \n",
       "3  The croquette is usually cigar shaped or cylin...  North Indian Recipes   \n",
       "4  Thekera Tenga is a Sour curry from Assamese cu...              Assamese   \n",
       "\n",
       "      course            diet       prep_time  \\\n",
       "0      Lunch      Vegetarian   Total in 35 M   \n",
       "1      Lunch      Vegetarian   Total in 75 M   \n",
       "2      Lunch      Vegetarian  Total in 530 M   \n",
       "3  Appetizer  Non Vegeterian   Total in 55 M   \n",
       "4     Dinner      Vegetarian   Total in 30 M   \n",
       "\n",
       "                                         ingredients  \\\n",
       "0  1/2 cup Semiya (Vermicelli), roasted\\t\\t\\t\\t\\t...   \n",
       "1  For ground masala\\n\\n\\t\\t\\t\\t\\t\\t\\t \\t\\t1/4 te...   \n",
       "2  1/2 cup Dried Green Peas (Vatana), soaked over...   \n",
       "3  500 grams Mutton, minced\\t\\t\\t\\t\\t\\t\\t \\t\\n\\n\\...   \n",
       "4  4 Potatoes (Aloo), thinly sliced\\t\\t\\t\\t\\t\\t\\t...   \n",
       "\n",
       "                                        instructions  Calories  \n",
       "0  To begin making the Thayir Semiya recipe, firs...       350  \n",
       "1  To begin making the Chettinad Style Kara Kuzha...       300  \n",
       "2  To prepare Goan Chana Ros recipe, soak the whi...       420  \n",
       "3  To begin making the Minced Meat And Egg Croque...       500  \n",
       "4  To begin making the Thekera Tenga recipe, Heat...       300  "
      ]
     },
     "execution_count": 3,
     "metadata": {},
     "output_type": "execute_result"
    }
   ],
   "source": [
    "df = pd.read_csv(\"cuisines.csv\")\n",
    "df.head()"
   ]
  },
  {
   "cell_type": "code",
   "execution_count": 4,
   "metadata": {},
   "outputs": [],
   "source": [
    "df = df.drop(\"image_url\",axis=1)"
   ]
  },
  {
   "cell_type": "code",
   "execution_count": 5,
   "metadata": {},
   "outputs": [
    {
     "data": {
      "text/plain": [
       "name             0\n",
       "description      0\n",
       "cuisine          6\n",
       "course          30\n",
       "diet            30\n",
       "prep_time        7\n",
       "ingredients      1\n",
       "instructions     0\n",
       "Calories         0\n",
       "dtype: int64"
      ]
     },
     "execution_count": 5,
     "metadata": {},
     "output_type": "execute_result"
    }
   ],
   "source": [
    "df.isnull().sum()"
   ]
  },
  {
   "cell_type": "code",
   "execution_count": 6,
   "metadata": {},
   "outputs": [
    {
     "data": {
      "text/plain": [
       "name             0\n",
       "description      0\n",
       "cuisine          6\n",
       "course          30\n",
       "diet            30\n",
       "prep_time        7\n",
       "ingredients      1\n",
       "instructions     0\n",
       "Calories         0\n",
       "dtype: int64"
      ]
     },
     "execution_count": 6,
     "metadata": {},
     "output_type": "execute_result"
    }
   ],
   "source": [
    "df.isna().sum()"
   ]
  },
  {
   "cell_type": "code",
   "execution_count": 7,
   "metadata": {},
   "outputs": [],
   "source": [
    "df=df.dropna()"
   ]
  },
  {
   "cell_type": "code",
   "execution_count": 8,
   "metadata": {},
   "outputs": [
    {
     "data": {
      "text/plain": [
       "name            0\n",
       "description     0\n",
       "cuisine         0\n",
       "course          0\n",
       "diet            0\n",
       "prep_time       0\n",
       "ingredients     0\n",
       "instructions    0\n",
       "Calories        0\n",
       "dtype: int64"
      ]
     },
     "execution_count": 8,
     "metadata": {},
     "output_type": "execute_result"
    }
   ],
   "source": [
    "df.isna().sum()"
   ]
  },
  {
   "cell_type": "code",
   "execution_count": 9,
   "metadata": {},
   "outputs": [
    {
     "data": {
      "text/plain": [
       "name            0\n",
       "description     0\n",
       "cuisine         0\n",
       "course          0\n",
       "diet            0\n",
       "prep_time       0\n",
       "ingredients     0\n",
       "instructions    0\n",
       "Calories        0\n",
       "dtype: int64"
      ]
     },
     "execution_count": 9,
     "metadata": {},
     "output_type": "execute_result"
    }
   ],
   "source": [
    "df.isnull().sum()"
   ]
  },
  {
   "cell_type": "code",
   "execution_count": 10,
   "metadata": {},
   "outputs": [
    {
     "data": {
      "text/html": [
       "<div>\n",
       "<style scoped>\n",
       "    .dataframe tbody tr th:only-of-type {\n",
       "        vertical-align: middle;\n",
       "    }\n",
       "\n",
       "    .dataframe tbody tr th {\n",
       "        vertical-align: top;\n",
       "    }\n",
       "\n",
       "    .dataframe thead th {\n",
       "        text-align: right;\n",
       "    }\n",
       "</style>\n",
       "<table border=\"1\" class=\"dataframe\">\n",
       "  <thead>\n",
       "    <tr style=\"text-align: right;\">\n",
       "      <th></th>\n",
       "      <th>name</th>\n",
       "      <th>description</th>\n",
       "      <th>cuisine</th>\n",
       "      <th>course</th>\n",
       "      <th>diet</th>\n",
       "      <th>prep_time</th>\n",
       "      <th>ingredients</th>\n",
       "      <th>instructions</th>\n",
       "      <th>Calories</th>\n",
       "    </tr>\n",
       "  </thead>\n",
       "  <tbody>\n",
       "    <tr>\n",
       "      <th>0</th>\n",
       "      <td>Thayir Semiya Recipe (Curd Semiya)</td>\n",
       "      <td>Thayir Semiya or Curd Vermicelli is a quick di...</td>\n",
       "      <td>Indian</td>\n",
       "      <td>Lunch</td>\n",
       "      <td>Vegetarian</td>\n",
       "      <td>Total in 35 M</td>\n",
       "      <td>1/2 cup Semiya (Vermicelli), roasted\\t\\t\\t\\t\\t...</td>\n",
       "      <td>To begin making the Thayir Semiya recipe, firs...</td>\n",
       "      <td>350</td>\n",
       "    </tr>\n",
       "    <tr>\n",
       "      <th>1</th>\n",
       "      <td>Chettinad Style Kara Kuzhambu Recipe with Pota...</td>\n",
       "      <td>Chettinad Style Kara Kuzhambu Recipe with Pot...</td>\n",
       "      <td>South Indian Recipes</td>\n",
       "      <td>Lunch</td>\n",
       "      <td>Vegetarian</td>\n",
       "      <td>Total in 75 M</td>\n",
       "      <td>For ground masala\\n\\n\\t\\t\\t\\t\\t\\t\\t \\t\\t1/4 te...</td>\n",
       "      <td>To begin making the Chettinad Style Kara Kuzha...</td>\n",
       "      <td>300</td>\n",
       "    </tr>\n",
       "    <tr>\n",
       "      <th>2</th>\n",
       "      <td>Goan Chana Ros Recipe (White Peas Curry)</td>\n",
       "      <td>Goan Chana Ros is a vegetarian dish from Goan ...</td>\n",
       "      <td>Goan Recipes</td>\n",
       "      <td>Lunch</td>\n",
       "      <td>Vegetarian</td>\n",
       "      <td>Total in 530 M</td>\n",
       "      <td>1/2 cup Dried Green Peas (Vatana), soaked over...</td>\n",
       "      <td>To prepare Goan Chana Ros recipe, soak the whi...</td>\n",
       "      <td>420</td>\n",
       "    </tr>\n",
       "    <tr>\n",
       "      <th>3</th>\n",
       "      <td>Minced Meat And Egg Croquettes Recipe</td>\n",
       "      <td>The croquette is usually cigar shaped or cylin...</td>\n",
       "      <td>North Indian Recipes</td>\n",
       "      <td>Appetizer</td>\n",
       "      <td>Non Vegeterian</td>\n",
       "      <td>Total in 55 M</td>\n",
       "      <td>500 grams Mutton, minced\\t\\t\\t\\t\\t\\t\\t \\t\\n\\n\\...</td>\n",
       "      <td>To begin making the Minced Meat And Egg Croque...</td>\n",
       "      <td>500</td>\n",
       "    </tr>\n",
       "    <tr>\n",
       "      <th>4</th>\n",
       "      <td>Thekera Tenga Recipe</td>\n",
       "      <td>Thekera Tenga is a Sour curry from Assamese cu...</td>\n",
       "      <td>Assamese</td>\n",
       "      <td>Dinner</td>\n",
       "      <td>Vegetarian</td>\n",
       "      <td>Total in 30 M</td>\n",
       "      <td>4 Potatoes (Aloo), thinly sliced\\t\\t\\t\\t\\t\\t\\t...</td>\n",
       "      <td>To begin making the Thekera Tenga recipe, Heat...</td>\n",
       "      <td>300</td>\n",
       "    </tr>\n",
       "  </tbody>\n",
       "</table>\n",
       "</div>"
      ],
      "text/plain": [
       "                                                name  \\\n",
       "0                 Thayir Semiya Recipe (Curd Semiya)   \n",
       "1  Chettinad Style Kara Kuzhambu Recipe with Pota...   \n",
       "2           Goan Chana Ros Recipe (White Peas Curry)   \n",
       "3              Minced Meat And Egg Croquettes Recipe   \n",
       "4                               Thekera Tenga Recipe   \n",
       "\n",
       "                                         description               cuisine  \\\n",
       "0  Thayir Semiya or Curd Vermicelli is a quick di...                Indian   \n",
       "1   Chettinad Style Kara Kuzhambu Recipe with Pot...  South Indian Recipes   \n",
       "2  Goan Chana Ros is a vegetarian dish from Goan ...          Goan Recipes   \n",
       "3  The croquette is usually cigar shaped or cylin...  North Indian Recipes   \n",
       "4  Thekera Tenga is a Sour curry from Assamese cu...              Assamese   \n",
       "\n",
       "      course            diet       prep_time  \\\n",
       "0      Lunch      Vegetarian   Total in 35 M   \n",
       "1      Lunch      Vegetarian   Total in 75 M   \n",
       "2      Lunch      Vegetarian  Total in 530 M   \n",
       "3  Appetizer  Non Vegeterian   Total in 55 M   \n",
       "4     Dinner      Vegetarian   Total in 30 M   \n",
       "\n",
       "                                         ingredients  \\\n",
       "0  1/2 cup Semiya (Vermicelli), roasted\\t\\t\\t\\t\\t...   \n",
       "1  For ground masala\\n\\n\\t\\t\\t\\t\\t\\t\\t \\t\\t1/4 te...   \n",
       "2  1/2 cup Dried Green Peas (Vatana), soaked over...   \n",
       "3  500 grams Mutton, minced\\t\\t\\t\\t\\t\\t\\t \\t\\n\\n\\...   \n",
       "4  4 Potatoes (Aloo), thinly sliced\\t\\t\\t\\t\\t\\t\\t...   \n",
       "\n",
       "                                        instructions  Calories  \n",
       "0  To begin making the Thayir Semiya recipe, firs...       350  \n",
       "1  To begin making the Chettinad Style Kara Kuzha...       300  \n",
       "2  To prepare Goan Chana Ros recipe, soak the whi...       420  \n",
       "3  To begin making the Minced Meat And Egg Croque...       500  \n",
       "4  To begin making the Thekera Tenga recipe, Heat...       300  "
      ]
     },
     "execution_count": 10,
     "metadata": {},
     "output_type": "execute_result"
    }
   ],
   "source": [
    "df.head()"
   ]
  },
  {
   "cell_type": "code",
   "execution_count": 11,
   "metadata": {},
   "outputs": [],
   "source": [
    "df = df.replace('\\n','', regex=True)"
   ]
  },
  {
   "cell_type": "code",
   "execution_count": 12,
   "metadata": {},
   "outputs": [
    {
     "data": {
      "text/html": [
       "<div>\n",
       "<style scoped>\n",
       "    .dataframe tbody tr th:only-of-type {\n",
       "        vertical-align: middle;\n",
       "    }\n",
       "\n",
       "    .dataframe tbody tr th {\n",
       "        vertical-align: top;\n",
       "    }\n",
       "\n",
       "    .dataframe thead th {\n",
       "        text-align: right;\n",
       "    }\n",
       "</style>\n",
       "<table border=\"1\" class=\"dataframe\">\n",
       "  <thead>\n",
       "    <tr style=\"text-align: right;\">\n",
       "      <th></th>\n",
       "      <th>name</th>\n",
       "      <th>description</th>\n",
       "      <th>cuisine</th>\n",
       "      <th>course</th>\n",
       "      <th>diet</th>\n",
       "      <th>prep_time</th>\n",
       "      <th>ingredients</th>\n",
       "      <th>instructions</th>\n",
       "      <th>Calories</th>\n",
       "    </tr>\n",
       "  </thead>\n",
       "  <tbody>\n",
       "    <tr>\n",
       "      <th>0</th>\n",
       "      <td>Thayir Semiya Recipe (Curd Semiya)</td>\n",
       "      <td>Thayir Semiya or Curd Vermicelli is a quick di...</td>\n",
       "      <td>Indian</td>\n",
       "      <td>Lunch</td>\n",
       "      <td>Vegetarian</td>\n",
       "      <td>Total in 35 M</td>\n",
       "      <td>1/2 cup Semiya (Vermicelli), roasted\\t\\t\\t\\t\\t...</td>\n",
       "      <td>To begin making the Thayir Semiya recipe, firs...</td>\n",
       "      <td>350</td>\n",
       "    </tr>\n",
       "    <tr>\n",
       "      <th>1</th>\n",
       "      <td>Chettinad Style Kara Kuzhambu Recipe with Pota...</td>\n",
       "      <td>Chettinad Style Kara Kuzhambu Recipe with Pot...</td>\n",
       "      <td>South Indian Recipes</td>\n",
       "      <td>Lunch</td>\n",
       "      <td>Vegetarian</td>\n",
       "      <td>Total in 75 M</td>\n",
       "      <td>For ground masala\\t\\t\\t\\t\\t\\t\\t \\t\\t1/4 teaspo...</td>\n",
       "      <td>To begin making the Chettinad Style Kara Kuzha...</td>\n",
       "      <td>300</td>\n",
       "    </tr>\n",
       "    <tr>\n",
       "      <th>2</th>\n",
       "      <td>Goan Chana Ros Recipe (White Peas Curry)</td>\n",
       "      <td>Goan Chana Ros is a vegetarian dish from Goan ...</td>\n",
       "      <td>Goan Recipes</td>\n",
       "      <td>Lunch</td>\n",
       "      <td>Vegetarian</td>\n",
       "      <td>Total in 530 M</td>\n",
       "      <td>1/2 cup Dried Green Peas (Vatana), soaked over...</td>\n",
       "      <td>To prepare Goan Chana Ros recipe, soak the whi...</td>\n",
       "      <td>420</td>\n",
       "    </tr>\n",
       "    <tr>\n",
       "      <th>3</th>\n",
       "      <td>Minced Meat And Egg Croquettes Recipe</td>\n",
       "      <td>The croquette is usually cigar shaped or cylin...</td>\n",
       "      <td>North Indian Recipes</td>\n",
       "      <td>Appetizer</td>\n",
       "      <td>Non Vegeterian</td>\n",
       "      <td>Total in 55 M</td>\n",
       "      <td>500 grams Mutton, minced\\t\\t\\t\\t\\t\\t\\t \\t\\t\\t\\...</td>\n",
       "      <td>To begin making the Minced Meat And Egg Croque...</td>\n",
       "      <td>500</td>\n",
       "    </tr>\n",
       "    <tr>\n",
       "      <th>4</th>\n",
       "      <td>Thekera Tenga Recipe</td>\n",
       "      <td>Thekera Tenga is a Sour curry from Assamese cu...</td>\n",
       "      <td>Assamese</td>\n",
       "      <td>Dinner</td>\n",
       "      <td>Vegetarian</td>\n",
       "      <td>Total in 30 M</td>\n",
       "      <td>4 Potatoes (Aloo), thinly sliced\\t\\t\\t\\t\\t\\t\\t...</td>\n",
       "      <td>To begin making the Thekera Tenga recipe, Heat...</td>\n",
       "      <td>300</td>\n",
       "    </tr>\n",
       "  </tbody>\n",
       "</table>\n",
       "</div>"
      ],
      "text/plain": [
       "                                                name  \\\n",
       "0                 Thayir Semiya Recipe (Curd Semiya)   \n",
       "1  Chettinad Style Kara Kuzhambu Recipe with Pota...   \n",
       "2           Goan Chana Ros Recipe (White Peas Curry)   \n",
       "3              Minced Meat And Egg Croquettes Recipe   \n",
       "4                               Thekera Tenga Recipe   \n",
       "\n",
       "                                         description               cuisine  \\\n",
       "0  Thayir Semiya or Curd Vermicelli is a quick di...                Indian   \n",
       "1   Chettinad Style Kara Kuzhambu Recipe with Pot...  South Indian Recipes   \n",
       "2  Goan Chana Ros is a vegetarian dish from Goan ...          Goan Recipes   \n",
       "3  The croquette is usually cigar shaped or cylin...  North Indian Recipes   \n",
       "4  Thekera Tenga is a Sour curry from Assamese cu...              Assamese   \n",
       "\n",
       "      course            diet       prep_time  \\\n",
       "0      Lunch      Vegetarian   Total in 35 M   \n",
       "1      Lunch      Vegetarian   Total in 75 M   \n",
       "2      Lunch      Vegetarian  Total in 530 M   \n",
       "3  Appetizer  Non Vegeterian   Total in 55 M   \n",
       "4     Dinner      Vegetarian   Total in 30 M   \n",
       "\n",
       "                                         ingredients  \\\n",
       "0  1/2 cup Semiya (Vermicelli), roasted\\t\\t\\t\\t\\t...   \n",
       "1  For ground masala\\t\\t\\t\\t\\t\\t\\t \\t\\t1/4 teaspo...   \n",
       "2  1/2 cup Dried Green Peas (Vatana), soaked over...   \n",
       "3  500 grams Mutton, minced\\t\\t\\t\\t\\t\\t\\t \\t\\t\\t\\...   \n",
       "4  4 Potatoes (Aloo), thinly sliced\\t\\t\\t\\t\\t\\t\\t...   \n",
       "\n",
       "                                        instructions  Calories  \n",
       "0  To begin making the Thayir Semiya recipe, firs...       350  \n",
       "1  To begin making the Chettinad Style Kara Kuzha...       300  \n",
       "2  To prepare Goan Chana Ros recipe, soak the whi...       420  \n",
       "3  To begin making the Minced Meat And Egg Croque...       500  \n",
       "4  To begin making the Thekera Tenga recipe, Heat...       300  "
      ]
     },
     "execution_count": 12,
     "metadata": {},
     "output_type": "execute_result"
    }
   ],
   "source": [
    "df.head()"
   ]
  },
  {
   "cell_type": "code",
   "execution_count": 13,
   "metadata": {},
   "outputs": [],
   "source": [
    "df = df.drop_duplicates(subset=[\"name\"], keep=\"first\")\n"
   ]
  },
  {
   "cell_type": "code",
   "execution_count": 14,
   "metadata": {},
   "outputs": [
    {
     "data": {
      "text/plain": [
       "np.int64(0)"
      ]
     },
     "execution_count": 14,
     "metadata": {},
     "output_type": "execute_result"
    }
   ],
   "source": [
    "df.duplicated().sum()"
   ]
  },
  {
   "cell_type": "code",
   "execution_count": 15,
   "metadata": {},
   "outputs": [],
   "source": [
    "df=df.drop_duplicates()"
   ]
  },
  {
   "cell_type": "code",
   "execution_count": 16,
   "metadata": {},
   "outputs": [
    {
     "data": {
      "text/plain": [
       "np.int64(0)"
      ]
     },
     "execution_count": 16,
     "metadata": {},
     "output_type": "execute_result"
    }
   ],
   "source": [
    "df.duplicated().sum()"
   ]
  },
  {
   "cell_type": "code",
   "execution_count": 17,
   "metadata": {},
   "outputs": [],
   "source": [
    "if 'food_name' in df.columns:\n",
    "    df['food_name'] = df['food_name'].astype(str)\n",
    "    df['food_name'] = df['food_name'].str.strip()  # Remove leading/trailing spaces\n",
    "    df['food_name'] = df['food_name'].apply(lambda x: re.sub(r'[^a-zA-Z0-9 ]', '', x))  # Remove special characters\n",
    "    df['food_name'] = df['food_name'].str.lower()  # Convert to lowercase"
   ]
  },
  {
   "cell_type": "code",
   "execution_count": 18,
   "metadata": {},
   "outputs": [
    {
     "data": {
      "text/html": [
       "<div>\n",
       "<style scoped>\n",
       "    .dataframe tbody tr th:only-of-type {\n",
       "        vertical-align: middle;\n",
       "    }\n",
       "\n",
       "    .dataframe tbody tr th {\n",
       "        vertical-align: top;\n",
       "    }\n",
       "\n",
       "    .dataframe thead th {\n",
       "        text-align: right;\n",
       "    }\n",
       "</style>\n",
       "<table border=\"1\" class=\"dataframe\">\n",
       "  <thead>\n",
       "    <tr style=\"text-align: right;\">\n",
       "      <th></th>\n",
       "      <th>name</th>\n",
       "      <th>description</th>\n",
       "      <th>cuisine</th>\n",
       "      <th>course</th>\n",
       "      <th>diet</th>\n",
       "      <th>prep_time</th>\n",
       "      <th>ingredients</th>\n",
       "      <th>instructions</th>\n",
       "      <th>Calories</th>\n",
       "    </tr>\n",
       "  </thead>\n",
       "  <tbody>\n",
       "    <tr>\n",
       "      <th>0</th>\n",
       "      <td>Thayir Semiya Recipe (Curd Semiya)</td>\n",
       "      <td>Thayir Semiya or Curd Vermicelli is a quick di...</td>\n",
       "      <td>Indian</td>\n",
       "      <td>Lunch</td>\n",
       "      <td>Vegetarian</td>\n",
       "      <td>Total in 35 M</td>\n",
       "      <td>1/2 cup Semiya (Vermicelli), roasted\\t\\t\\t\\t\\t...</td>\n",
       "      <td>To begin making the Thayir Semiya recipe, firs...</td>\n",
       "      <td>350</td>\n",
       "    </tr>\n",
       "    <tr>\n",
       "      <th>1</th>\n",
       "      <td>Chettinad Style Kara Kuzhambu Recipe with Pota...</td>\n",
       "      <td>Chettinad Style Kara Kuzhambu Recipe with Pot...</td>\n",
       "      <td>South Indian Recipes</td>\n",
       "      <td>Lunch</td>\n",
       "      <td>Vegetarian</td>\n",
       "      <td>Total in 75 M</td>\n",
       "      <td>For ground masala\\t\\t\\t\\t\\t\\t\\t \\t\\t1/4 teaspo...</td>\n",
       "      <td>To begin making the Chettinad Style Kara Kuzha...</td>\n",
       "      <td>300</td>\n",
       "    </tr>\n",
       "    <tr>\n",
       "      <th>2</th>\n",
       "      <td>Goan Chana Ros Recipe (White Peas Curry)</td>\n",
       "      <td>Goan Chana Ros is a vegetarian dish from Goan ...</td>\n",
       "      <td>Goan Recipes</td>\n",
       "      <td>Lunch</td>\n",
       "      <td>Vegetarian</td>\n",
       "      <td>Total in 530 M</td>\n",
       "      <td>1/2 cup Dried Green Peas (Vatana), soaked over...</td>\n",
       "      <td>To prepare Goan Chana Ros recipe, soak the whi...</td>\n",
       "      <td>420</td>\n",
       "    </tr>\n",
       "    <tr>\n",
       "      <th>3</th>\n",
       "      <td>Minced Meat And Egg Croquettes Recipe</td>\n",
       "      <td>The croquette is usually cigar shaped or cylin...</td>\n",
       "      <td>North Indian Recipes</td>\n",
       "      <td>Appetizer</td>\n",
       "      <td>Non Vegeterian</td>\n",
       "      <td>Total in 55 M</td>\n",
       "      <td>500 grams Mutton, minced\\t\\t\\t\\t\\t\\t\\t \\t\\t\\t\\...</td>\n",
       "      <td>To begin making the Minced Meat And Egg Croque...</td>\n",
       "      <td>500</td>\n",
       "    </tr>\n",
       "    <tr>\n",
       "      <th>4</th>\n",
       "      <td>Thekera Tenga Recipe</td>\n",
       "      <td>Thekera Tenga is a Sour curry from Assamese cu...</td>\n",
       "      <td>Assamese</td>\n",
       "      <td>Dinner</td>\n",
       "      <td>Vegetarian</td>\n",
       "      <td>Total in 30 M</td>\n",
       "      <td>4 Potatoes (Aloo), thinly sliced\\t\\t\\t\\t\\t\\t\\t...</td>\n",
       "      <td>To begin making the Thekera Tenga recipe, Heat...</td>\n",
       "      <td>300</td>\n",
       "    </tr>\n",
       "  </tbody>\n",
       "</table>\n",
       "</div>"
      ],
      "text/plain": [
       "                                                name  \\\n",
       "0                 Thayir Semiya Recipe (Curd Semiya)   \n",
       "1  Chettinad Style Kara Kuzhambu Recipe with Pota...   \n",
       "2           Goan Chana Ros Recipe (White Peas Curry)   \n",
       "3              Minced Meat And Egg Croquettes Recipe   \n",
       "4                               Thekera Tenga Recipe   \n",
       "\n",
       "                                         description               cuisine  \\\n",
       "0  Thayir Semiya or Curd Vermicelli is a quick di...                Indian   \n",
       "1   Chettinad Style Kara Kuzhambu Recipe with Pot...  South Indian Recipes   \n",
       "2  Goan Chana Ros is a vegetarian dish from Goan ...          Goan Recipes   \n",
       "3  The croquette is usually cigar shaped or cylin...  North Indian Recipes   \n",
       "4  Thekera Tenga is a Sour curry from Assamese cu...              Assamese   \n",
       "\n",
       "      course            diet       prep_time  \\\n",
       "0      Lunch      Vegetarian   Total in 35 M   \n",
       "1      Lunch      Vegetarian   Total in 75 M   \n",
       "2      Lunch      Vegetarian  Total in 530 M   \n",
       "3  Appetizer  Non Vegeterian   Total in 55 M   \n",
       "4     Dinner      Vegetarian   Total in 30 M   \n",
       "\n",
       "                                         ingredients  \\\n",
       "0  1/2 cup Semiya (Vermicelli), roasted\\t\\t\\t\\t\\t...   \n",
       "1  For ground masala\\t\\t\\t\\t\\t\\t\\t \\t\\t1/4 teaspo...   \n",
       "2  1/2 cup Dried Green Peas (Vatana), soaked over...   \n",
       "3  500 grams Mutton, minced\\t\\t\\t\\t\\t\\t\\t \\t\\t\\t\\...   \n",
       "4  4 Potatoes (Aloo), thinly sliced\\t\\t\\t\\t\\t\\t\\t...   \n",
       "\n",
       "                                        instructions  Calories  \n",
       "0  To begin making the Thayir Semiya recipe, firs...       350  \n",
       "1  To begin making the Chettinad Style Kara Kuzha...       300  \n",
       "2  To prepare Goan Chana Ros recipe, soak the whi...       420  \n",
       "3  To begin making the Minced Meat And Egg Croque...       500  \n",
       "4  To begin making the Thekera Tenga recipe, Heat...       300  "
      ]
     },
     "execution_count": 18,
     "metadata": {},
     "output_type": "execute_result"
    }
   ],
   "source": [
    "df.head()"
   ]
  },
  {
   "cell_type": "code",
   "execution_count": 19,
   "metadata": {},
   "outputs": [
    {
     "data": {
      "text/plain": [
       "<Axes: xlabel='count', ylabel='cuisine'>"
      ]
     },
     "execution_count": 19,
     "metadata": {},
     "output_type": "execute_result"
    },
    {
     "data": {
      "image/png": "[encoded data removed]",
      "text/plain": [
       "<Figure size 640x480 with 1 Axes>"
      ]
     },
     "metadata": {},
     "output_type": "display_data"
    }
   ],
   "source": [
    "sns.countplot(df['cuisine'])"
   ]
  },
  {
   "cell_type": "code",
   "execution_count": 20,
   "metadata": {},
   "outputs": [],
   "source": [
    "if 'cuisine' in df.columns:\n",
    "    cuisine_counts = df['cuisine'].value_counts()\n",
    "    df = df[df['cuisine'].isin(cuisine_counts[cuisine_counts >= 100].index)]"
   ]
  },
  {
   "cell_type": "code",
   "execution_count": 21,
   "metadata": {},
   "outputs": [
    {
     "data": {
      "text/plain": [
       "<Axes: xlabel='count', ylabel='cuisine'>"
      ]
     },
     "execution_count": 21,
     "metadata": {},
     "output_type": "execute_result"
    },
    {
     "data": {
      "image/png": "[encoded data removed]",
      "text/plain": [
       "<Figure size 640x480 with 1 Axes>"
      ]
     },
     "metadata": {},
     "output_type": "display_data"
    }
   ],
   "source": [
    "sns.countplot(df['cuisine'])"
   ]
  },
  {
   "cell_type": "code",
   "execution_count": 22,
   "metadata": {},
   "outputs": [
    {
     "data": {
      "text/plain": [
       "<Axes: xlabel='count', ylabel='course'>"
      ]
     },
     "execution_count": 22,
     "metadata": {},
     "output_type": "execute_result"
    },
    {
     "data": {
      "image/png": "[encoded data removed]",
      "text/plain": [
       "<Figure size 640x480 with 1 Axes>"
      ]
     },
     "metadata": {},
     "output_type": "display_data"
    }
   ],
   "source": [
    "sns.countplot(df['course'])"
   ]
  },
  {
   "cell_type": "code",
   "execution_count": 23,
   "metadata": {},
   "outputs": [],
   "source": [
    "if 'course' in df.columns:\n",
    "    df = df[df['course'] != 'Appetizer']\n",
    "    df = df [df['course']!='One Pot Dish']\n",
    "    df['course'] = df['course'].replace(to_replace=r'.*Breakfast.*', value='Breakfast', regex=True)"
   ]
  },
  {
   "cell_type": "code",
   "execution_count": 24,
   "metadata": {},
   "outputs": [
    {
     "data": {
      "text/plain": [
       "<Axes: xlabel='count', ylabel='course'>"
      ]
     },
     "execution_count": 24,
     "metadata": {},
     "output_type": "execute_result"
    },
    {
     "data": {
      "image/png": "[encoded data removed]",
      "text/plain": [
       "<Figure size 640x480 with 1 Axes>"
      ]
     },
     "metadata": {},
     "output_type": "display_data"
    }
   ],
   "source": [
    "sns.countplot(df['course'])"
   ]
  },
  {
   "cell_type": "code",
   "execution_count": 25,
   "metadata": {},
   "outputs": [
    {
     "data": {
      "text/html": [
       "<div>\n",
       "<style scoped>\n",
       "    .dataframe tbody tr th:only-of-type {\n",
       "        vertical-align: middle;\n",
       "    }\n",
       "\n",
       "    .dataframe tbody tr th {\n",
       "        vertical-align: top;\n",
       "    }\n",
       "\n",
       "    .dataframe thead th {\n",
       "        text-align: right;\n",
       "    }\n",
       "</style>\n",
       "<table border=\"1\" class=\"dataframe\">\n",
       "  <thead>\n",
       "    <tr style=\"text-align: right;\">\n",
       "      <th></th>\n",
       "      <th>name</th>\n",
       "      <th>description</th>\n",
       "      <th>cuisine</th>\n",
       "      <th>course</th>\n",
       "      <th>diet</th>\n",
       "      <th>prep_time</th>\n",
       "      <th>ingredients</th>\n",
       "      <th>instructions</th>\n",
       "      <th>Calories</th>\n",
       "    </tr>\n",
       "  </thead>\n",
       "  <tbody>\n",
       "    <tr>\n",
       "      <th>0</th>\n",
       "      <td>Thayir Semiya Recipe (Curd Semiya)</td>\n",
       "      <td>Thayir Semiya or Curd Vermicelli is a quick di...</td>\n",
       "      <td>Indian</td>\n",
       "      <td>Lunch</td>\n",
       "      <td>Vegetarian</td>\n",
       "      <td>Total in 35 M</td>\n",
       "      <td>1/2 cup Semiya (Vermicelli), roasted\\t\\t\\t\\t\\t...</td>\n",
       "      <td>To begin making the Thayir Semiya recipe, firs...</td>\n",
       "      <td>350</td>\n",
       "    </tr>\n",
       "    <tr>\n",
       "      <th>1</th>\n",
       "      <td>Chettinad Style Kara Kuzhambu Recipe with Pota...</td>\n",
       "      <td>Chettinad Style Kara Kuzhambu Recipe with Pot...</td>\n",
       "      <td>South Indian Recipes</td>\n",
       "      <td>Lunch</td>\n",
       "      <td>Vegetarian</td>\n",
       "      <td>Total in 75 M</td>\n",
       "      <td>For ground masala\\t\\t\\t\\t\\t\\t\\t \\t\\t1/4 teaspo...</td>\n",
       "      <td>To begin making the Chettinad Style Kara Kuzha...</td>\n",
       "      <td>300</td>\n",
       "    </tr>\n",
       "    <tr>\n",
       "      <th>5</th>\n",
       "      <td>Spicy Cabbage Rice Recipe (South Indian Style ...</td>\n",
       "      <td>Spicy Cabbage Rice takes very few ingredients ...</td>\n",
       "      <td>Indian</td>\n",
       "      <td>Lunch</td>\n",
       "      <td>Vegetarian</td>\n",
       "      <td>Total in 65 M</td>\n",
       "      <td>2 cups Cooked rice Ghee, or oil as required\\t\\...</td>\n",
       "      <td>To prepare Spicy Cabbage Rice recipe, firstly ...</td>\n",
       "      <td>220</td>\n",
       "    </tr>\n",
       "    <tr>\n",
       "      <th>6</th>\n",
       "      <td>Mullangi Poriyal Recipe</td>\n",
       "      <td>Radish is called 'Mullangi' in Tamil. A juicy ...</td>\n",
       "      <td>Tamil Nadu</td>\n",
       "      <td>Dinner</td>\n",
       "      <td>Diabetic Friendly</td>\n",
       "      <td>Total in 40 M</td>\n",
       "      <td>2 Mooli/ Mullangi (Radish), (cleaned, peeled &amp;...</td>\n",
       "      <td>To prepare Mullangi Curry(South Indian Style R...</td>\n",
       "      <td>300</td>\n",
       "    </tr>\n",
       "    <tr>\n",
       "      <th>7</th>\n",
       "      <td>Karwar Style Surana Bhaji Recipe - Hot and Sou...</td>\n",
       "      <td>Karwar Style Surana Bhaji Recipe - Hot and Sou...</td>\n",
       "      <td>Karnataka</td>\n",
       "      <td>Side Dish</td>\n",
       "      <td>Vegetarian</td>\n",
       "      <td>Total in 30 M</td>\n",
       "      <td>500 grams Elephant yam (Suran/Senai/Ratalu), p...</td>\n",
       "      <td>To begin making the Karwar Style Surana Bhaji ...</td>\n",
       "      <td>300</td>\n",
       "    </tr>\n",
       "  </tbody>\n",
       "</table>\n",
       "</div>"
      ],
      "text/plain": [
       "                                                name  \\\n",
       "0                 Thayir Semiya Recipe (Curd Semiya)   \n",
       "1  Chettinad Style Kara Kuzhambu Recipe with Pota...   \n",
       "5  Spicy Cabbage Rice Recipe (South Indian Style ...   \n",
       "6                           Mullangi Poriyal Recipe    \n",
       "7  Karwar Style Surana Bhaji Recipe - Hot and Sou...   \n",
       "\n",
       "                                         description               cuisine  \\\n",
       "0  Thayir Semiya or Curd Vermicelli is a quick di...                Indian   \n",
       "1   Chettinad Style Kara Kuzhambu Recipe with Pot...  South Indian Recipes   \n",
       "5  Spicy Cabbage Rice takes very few ingredients ...                Indian   \n",
       "6  Radish is called 'Mullangi' in Tamil. A juicy ...            Tamil Nadu   \n",
       "7  Karwar Style Surana Bhaji Recipe - Hot and Sou...             Karnataka   \n",
       "\n",
       "      course               diet      prep_time  \\\n",
       "0      Lunch         Vegetarian  Total in 35 M   \n",
       "1      Lunch         Vegetarian  Total in 75 M   \n",
       "5      Lunch         Vegetarian  Total in 65 M   \n",
       "6     Dinner  Diabetic Friendly  Total in 40 M   \n",
       "7  Side Dish         Vegetarian  Total in 30 M   \n",
       "\n",
       "                                         ingredients  \\\n",
       "0  1/2 cup Semiya (Vermicelli), roasted\\t\\t\\t\\t\\t...   \n",
       "1  For ground masala\\t\\t\\t\\t\\t\\t\\t \\t\\t1/4 teaspo...   \n",
       "5  2 cups Cooked rice Ghee, or oil as required\\t\\...   \n",
       "6  2 Mooli/ Mullangi (Radish), (cleaned, peeled &...   \n",
       "7  500 grams Elephant yam (Suran/Senai/Ratalu), p...   \n",
       "\n",
       "                                        instructions  Calories  \n",
       "0  To begin making the Thayir Semiya recipe, firs...       350  \n",
       "1  To begin making the Chettinad Style Kara Kuzha...       300  \n",
       "5  To prepare Spicy Cabbage Rice recipe, firstly ...       220  \n",
       "6  To prepare Mullangi Curry(South Indian Style R...       300  \n",
       "7  To begin making the Karwar Style Surana Bhaji ...       300  "
      ]
     },
     "execution_count": 25,
     "metadata": {},
     "output_type": "execute_result"
    }
   ],
   "source": [
    "df.head()"
   ]
  },
  {
   "cell_type": "code",
   "execution_count": 26,
   "metadata": {},
   "outputs": [
    {
     "data": {
      "text/plain": [
       "<Axes: xlabel='count', ylabel='diet'>"
      ]
     },
     "execution_count": 26,
     "metadata": {},
     "output_type": "execute_result"
    },
    {
     "data": {
      "image/png": "[encoded data removed]",
      "text/plain": [
       "<Figure size 640x480 with 1 Axes>"
      ]
     },
     "metadata": {},
     "output_type": "display_data"
    }
   ],
   "source": [
    "sns.countplot(df['diet'])"
   ]
  },
  {
   "cell_type": "code",
   "execution_count": 27,
   "metadata": {},
   "outputs": [],
   "source": [
    "if 'diet' in df.columns:\n",
    "    df['diet'] = df['diet'].replace(to_replace=r'.*Vegetarian.*', value='Vegetarian', regex=True)\n",
    "    df['diet'] = df['diet'].replace(to_replace=r'.*Non Vegetarian.*', value='Non Vegetarian', regex=True)"
   ]
  },
  {
   "cell_type": "code",
   "execution_count": 28,
   "metadata": {},
   "outputs": [
    {
     "data": {
      "text/plain": [
       "np.int64(850)"
      ]
     },
     "execution_count": 28,
     "metadata": {},
     "output_type": "execute_result"
    }
   ],
   "source": [
    "df['Calories'].max()"
   ]
  },
  {
   "cell_type": "code",
   "execution_count": 29,
   "metadata": {},
   "outputs": [
    {
     "data": {
      "text/plain": [
       "<Axes: xlabel='count', ylabel='diet'>"
      ]
     },
     "execution_count": 29,
     "metadata": {},
     "output_type": "execute_result"
    },
    {
     "data": {
      "image/png": "[encoded data removed]",
      "text/plain": [
       "<Figure size 640x480 with 1 Axes>"
      ]
     },
     "metadata": {},
     "output_type": "display_data"
    }
   ],
   "source": [
    "sns.countplot(df['diet'])"
   ]
  },
  {
   "cell_type": "code",
   "execution_count": 30,
   "metadata": {},
   "outputs": [
    {
     "data": {
      "text/plain": [
       "diet\n",
       "Vegetarian                      1969\n",
       "Diabetic Friendly                162\n",
       "Non Vegeterian                   119\n",
       "Eggetarian                        44\n",
       "No Onion No Garlic (Sattvic)      38\n",
       "Gluten Free                       21\n",
       "Vegan                             11\n",
       "Name: count, dtype: int64"
      ]
     },
     "execution_count": 30,
     "metadata": {},
     "output_type": "execute_result"
    }
   ],
   "source": [
    "df['diet'].value_counts()"
   ]
  },
  {
   "cell_type": "code",
   "execution_count": 31,
   "metadata": {},
   "outputs": [
    {
     "data": {
      "text/html": [
       "<div>\n",
       "<style scoped>\n",
       "    .dataframe tbody tr th:only-of-type {\n",
       "        vertical-align: middle;\n",
       "    }\n",
       "\n",
       "    .dataframe tbody tr th {\n",
       "        vertical-align: top;\n",
       "    }\n",
       "\n",
       "    .dataframe thead th {\n",
       "        text-align: right;\n",
       "    }\n",
       "</style>\n",
       "<table border=\"1\" class=\"dataframe\">\n",
       "  <thead>\n",
       "    <tr style=\"text-align: right;\">\n",
       "      <th></th>\n",
       "      <th>name</th>\n",
       "      <th>description</th>\n",
       "      <th>cuisine</th>\n",
       "      <th>course</th>\n",
       "      <th>diet</th>\n",
       "      <th>prep_time</th>\n",
       "      <th>ingredients</th>\n",
       "      <th>instructions</th>\n",
       "      <th>Calories</th>\n",
       "    </tr>\n",
       "  </thead>\n",
       "  <tbody>\n",
       "    <tr>\n",
       "      <th>0</th>\n",
       "      <td>Thayir Semiya Recipe (Curd Semiya)</td>\n",
       "      <td>Thayir Semiya or Curd Vermicelli is a quick di...</td>\n",
       "      <td>Indian</td>\n",
       "      <td>Lunch</td>\n",
       "      <td>Vegetarian</td>\n",
       "      <td>Total in 35 M</td>\n",
       "      <td>1/2 cup Semiya (Vermicelli), roasted\\t\\t\\t\\t\\t...</td>\n",
       "      <td>To begin making the Thayir Semiya recipe, firs...</td>\n",
       "      <td>350</td>\n",
       "    </tr>\n",
       "    <tr>\n",
       "      <th>1</th>\n",
       "      <td>Chettinad Style Kara Kuzhambu Recipe with Pota...</td>\n",
       "      <td>Chettinad Style Kara Kuzhambu Recipe with Pot...</td>\n",
       "      <td>South Indian Recipes</td>\n",
       "      <td>Lunch</td>\n",
       "      <td>Vegetarian</td>\n",
       "      <td>Total in 75 M</td>\n",
       "      <td>For ground masala\\t\\t\\t\\t\\t\\t\\t \\t\\t1/4 teaspo...</td>\n",
       "      <td>To begin making the Chettinad Style Kara Kuzha...</td>\n",
       "      <td>300</td>\n",
       "    </tr>\n",
       "    <tr>\n",
       "      <th>5</th>\n",
       "      <td>Spicy Cabbage Rice Recipe (South Indian Style ...</td>\n",
       "      <td>Spicy Cabbage Rice takes very few ingredients ...</td>\n",
       "      <td>Indian</td>\n",
       "      <td>Lunch</td>\n",
       "      <td>Vegetarian</td>\n",
       "      <td>Total in 65 M</td>\n",
       "      <td>2 cups Cooked rice Ghee, or oil as required\\t\\...</td>\n",
       "      <td>To prepare Spicy Cabbage Rice recipe, firstly ...</td>\n",
       "      <td>220</td>\n",
       "    </tr>\n",
       "    <tr>\n",
       "      <th>6</th>\n",
       "      <td>Mullangi Poriyal Recipe</td>\n",
       "      <td>Radish is called 'Mullangi' in Tamil. A juicy ...</td>\n",
       "      <td>Tamil Nadu</td>\n",
       "      <td>Dinner</td>\n",
       "      <td>Diabetic Friendly</td>\n",
       "      <td>Total in 40 M</td>\n",
       "      <td>2 Mooli/ Mullangi (Radish), (cleaned, peeled &amp;...</td>\n",
       "      <td>To prepare Mullangi Curry(South Indian Style R...</td>\n",
       "      <td>300</td>\n",
       "    </tr>\n",
       "    <tr>\n",
       "      <th>7</th>\n",
       "      <td>Karwar Style Surana Bhaji Recipe - Hot and Sou...</td>\n",
       "      <td>Karwar Style Surana Bhaji Recipe - Hot and Sou...</td>\n",
       "      <td>Karnataka</td>\n",
       "      <td>Side Dish</td>\n",
       "      <td>Vegetarian</td>\n",
       "      <td>Total in 30 M</td>\n",
       "      <td>500 grams Elephant yam (Suran/Senai/Ratalu), p...</td>\n",
       "      <td>To begin making the Karwar Style Surana Bhaji ...</td>\n",
       "      <td>300</td>\n",
       "    </tr>\n",
       "  </tbody>\n",
       "</table>\n",
       "</div>"
      ],
      "text/plain": [
       "                                                name  \\\n",
       "0                 Thayir Semiya Recipe (Curd Semiya)   \n",
       "1  Chettinad Style Kara Kuzhambu Recipe with Pota...   \n",
       "5  Spicy Cabbage Rice Recipe (South Indian Style ...   \n",
       "6                           Mullangi Poriyal Recipe    \n",
       "7  Karwar Style Surana Bhaji Recipe - Hot and Sou...   \n",
       "\n",
       "                                         description               cuisine  \\\n",
       "0  Thayir Semiya or Curd Vermicelli is a quick di...                Indian   \n",
       "1   Chettinad Style Kara Kuzhambu Recipe with Pot...  South Indian Recipes   \n",
       "5  Spicy Cabbage Rice takes very few ingredients ...                Indian   \n",
       "6  Radish is called 'Mullangi' in Tamil. A juicy ...            Tamil Nadu   \n",
       "7  Karwar Style Surana Bhaji Recipe - Hot and Sou...             Karnataka   \n",
       "\n",
       "      course               diet      prep_time  \\\n",
       "0      Lunch         Vegetarian  Total in 35 M   \n",
       "1      Lunch         Vegetarian  Total in 75 M   \n",
       "5      Lunch         Vegetarian  Total in 65 M   \n",
       "6     Dinner  Diabetic Friendly  Total in 40 M   \n",
       "7  Side Dish         Vegetarian  Total in 30 M   \n",
       "\n",
       "                                         ingredients  \\\n",
       "0  1/2 cup Semiya (Vermicelli), roasted\\t\\t\\t\\t\\t...   \n",
       "1  For ground masala\\t\\t\\t\\t\\t\\t\\t \\t\\t1/4 teaspo...   \n",
       "5  2 cups Cooked rice Ghee, or oil as required\\t\\...   \n",
       "6  2 Mooli/ Mullangi (Radish), (cleaned, peeled &...   \n",
       "7  500 grams Elephant yam (Suran/Senai/Ratalu), p...   \n",
       "\n",
       "                                        instructions  Calories  \n",
       "0  To begin making the Thayir Semiya recipe, firs...       350  \n",
       "1  To begin making the Chettinad Style Kara Kuzha...       300  \n",
       "5  To prepare Spicy Cabbage Rice recipe, firstly ...       220  \n",
       "6  To prepare Mullangi Curry(South Indian Style R...       300  \n",
       "7  To begin making the Karwar Style Surana Bhaji ...       300  "
      ]
     },
     "execution_count": 31,
     "metadata": {},
     "output_type": "execute_result"
    }
   ],
   "source": [
    "df.head()"
   ]
  },
  {
   "cell_type": "code",
   "execution_count": 32,
   "metadata": {},
   "outputs": [],
   "source": [
    "def calculate_calories():\n",
    "    gender = input(\"Enter your gender (male/female): \").strip().lower()\n",
    "    age = int(input(\"Enter your age: \"))\n",
    "    weight = float(input(\"Enter your weight in kg: \"))\n",
    "    height = float(input(\"Enter your height in cm: \"))\n",
    "    activity_level = input(\"Enter your activity level (sedentary, light, moderate, active, very active): \").strip().lower()\n",
    "    \n",
    "    # Calculate BMI\n",
    "    height_m = height / 100  # Convert height to meters\n",
    "    bmi = weight / (height_m ** 2)\n",
    "    \n",
    "    # Classify weight status\n",
    "    if bmi < 18.5:\n",
    "        weight_status = \"Underweight\"\n",
    "    elif 18.5 <= bmi < 24.9:\n",
    "        weight_status = \"Normal weight\"\n",
    "    else:\n",
    "        weight_status = \"Overweight\"\n",
    "    \n",
    "    print(f\"Your BMI is {bmi:.2f}, which classifies you as {weight_status}.\")\n",
    "    \n",
    "    # Mifflin-St Jeor Equation\n",
    "    if gender == 'male':\n",
    "        bmr = 10 * weight + 6.25 * height - 5 * age + 5\n",
    "    else:\n",
    "        bmr = 10 * weight + 6.25 * height - 5 * age - 161\n",
    "    \n",
    "    activity_multipliers = {\n",
    "        \"sedentary\": 1.2,\n",
    "        \"light\": 1.375,\n",
    "        \"moderate\": 1.55,\n",
    "        \"active\": 1.725,\n",
    "        \"very active\": 1.9\n",
    "    }\n",
    "    \n",
    "    daily_calories = bmr * activity_multipliers.get(activity_level, 1.2)\n",
    "    print(f\"Your estimated daily calorie requirement: {daily_calories:.2f} kcal\")\n",
    "    return daily_calories\n",
    "\n"
   ]
  },
  {
   "cell_type": "code",
   "execution_count": 33,
   "metadata": {},
   "outputs": [
    {
     "data": {
      "text/plain": [
       "course\n",
       "Lunch          838\n",
       "Side Dish      486\n",
       "Breakfast      346\n",
       "Dessert        304\n",
       "Dinner         220\n",
       "Main Course    112\n",
       "Snack           58\n",
       "Name: count, dtype: int64"
      ]
     },
     "execution_count": 33,
     "metadata": {},
     "output_type": "execute_result"
    }
   ],
   "source": [
    "df.value_counts('course')"
   ]
  },
  {
   "cell_type": "code",
   "execution_count": 34,
   "metadata": {},
   "outputs": [
    {
     "data": {
      "text/html": [
       "<div>\n",
       "<style scoped>\n",
       "    .dataframe tbody tr th:only-of-type {\n",
       "        vertical-align: middle;\n",
       "    }\n",
       "\n",
       "    .dataframe tbody tr th {\n",
       "        vertical-align: top;\n",
       "    }\n",
       "\n",
       "    .dataframe thead th {\n",
       "        text-align: right;\n",
       "    }\n",
       "</style>\n",
       "<table border=\"1\" class=\"dataframe\">\n",
       "  <thead>\n",
       "    <tr style=\"text-align: right;\">\n",
       "      <th></th>\n",
       "      <th>name</th>\n",
       "      <th>description</th>\n",
       "      <th>cuisine</th>\n",
       "      <th>course</th>\n",
       "      <th>diet</th>\n",
       "      <th>prep_time</th>\n",
       "      <th>ingredients</th>\n",
       "      <th>instructions</th>\n",
       "      <th>Calories</th>\n",
       "    </tr>\n",
       "  </thead>\n",
       "  <tbody>\n",
       "    <tr>\n",
       "      <th>0</th>\n",
       "      <td>Thayir Semiya Recipe (Curd Semiya)</td>\n",
       "      <td>Thayir Semiya or Curd Vermicelli is a quick di...</td>\n",
       "      <td>Indian</td>\n",
       "      <td>Lunch</td>\n",
       "      <td>Vegetarian</td>\n",
       "      <td>Total in 35 M</td>\n",
       "      <td>1/2 cup Semiya (Vermicelli), roasted\\t\\t\\t\\t\\t...</td>\n",
       "      <td>To begin making the Thayir Semiya recipe, firs...</td>\n",
       "      <td>350</td>\n",
       "    </tr>\n",
       "    <tr>\n",
       "      <th>1</th>\n",
       "      <td>Chettinad Style Kara Kuzhambu Recipe with Pota...</td>\n",
       "      <td>Chettinad Style Kara Kuzhambu Recipe with Pot...</td>\n",
       "      <td>South Indian Recipes</td>\n",
       "      <td>Lunch</td>\n",
       "      <td>Vegetarian</td>\n",
       "      <td>Total in 75 M</td>\n",
       "      <td>For ground masala\\t\\t\\t\\t\\t\\t\\t \\t\\t1/4 teaspo...</td>\n",
       "      <td>To begin making the Chettinad Style Kara Kuzha...</td>\n",
       "      <td>300</td>\n",
       "    </tr>\n",
       "    <tr>\n",
       "      <th>5</th>\n",
       "      <td>Spicy Cabbage Rice Recipe (South Indian Style ...</td>\n",
       "      <td>Spicy Cabbage Rice takes very few ingredients ...</td>\n",
       "      <td>Indian</td>\n",
       "      <td>Lunch</td>\n",
       "      <td>Vegetarian</td>\n",
       "      <td>Total in 65 M</td>\n",
       "      <td>2 cups Cooked rice Ghee, or oil as required\\t\\...</td>\n",
       "      <td>To prepare Spicy Cabbage Rice recipe, firstly ...</td>\n",
       "      <td>220</td>\n",
       "    </tr>\n",
       "    <tr>\n",
       "      <th>6</th>\n",
       "      <td>Mullangi Poriyal Recipe</td>\n",
       "      <td>Radish is called 'Mullangi' in Tamil. A juicy ...</td>\n",
       "      <td>Tamil Nadu</td>\n",
       "      <td>Dinner</td>\n",
       "      <td>Diabetic Friendly</td>\n",
       "      <td>Total in 40 M</td>\n",
       "      <td>2 Mooli/ Mullangi (Radish), (cleaned, peeled &amp;...</td>\n",
       "      <td>To prepare Mullangi Curry(South Indian Style R...</td>\n",
       "      <td>300</td>\n",
       "    </tr>\n",
       "    <tr>\n",
       "      <th>7</th>\n",
       "      <td>Karwar Style Surana Bhaji Recipe - Hot and Sou...</td>\n",
       "      <td>Karwar Style Surana Bhaji Recipe - Hot and Sou...</td>\n",
       "      <td>Karnataka</td>\n",
       "      <td>Side Dish</td>\n",
       "      <td>Vegetarian</td>\n",
       "      <td>Total in 30 M</td>\n",
       "      <td>500 grams Elephant yam (Suran/Senai/Ratalu), p...</td>\n",
       "      <td>To begin making the Karwar Style Surana Bhaji ...</td>\n",
       "      <td>300</td>\n",
       "    </tr>\n",
       "  </tbody>\n",
       "</table>\n",
       "</div>"
      ],
      "text/plain": [
       "                                                name  \\\n",
       "0                 Thayir Semiya Recipe (Curd Semiya)   \n",
       "1  Chettinad Style Kara Kuzhambu Recipe with Pota...   \n",
       "5  Spicy Cabbage Rice Recipe (South Indian Style ...   \n",
       "6                           Mullangi Poriyal Recipe    \n",
       "7  Karwar Style Surana Bhaji Recipe - Hot and Sou...   \n",
       "\n",
       "                                         description               cuisine  \\\n",
       "0  Thayir Semiya or Curd Vermicelli is a quick di...                Indian   \n",
       "1   Chettinad Style Kara Kuzhambu Recipe with Pot...  South Indian Recipes   \n",
       "5  Spicy Cabbage Rice takes very few ingredients ...                Indian   \n",
       "6  Radish is called 'Mullangi' in Tamil. A juicy ...            Tamil Nadu   \n",
       "7  Karwar Style Surana Bhaji Recipe - Hot and Sou...             Karnataka   \n",
       "\n",
       "      course               diet      prep_time  \\\n",
       "0      Lunch         Vegetarian  Total in 35 M   \n",
       "1      Lunch         Vegetarian  Total in 75 M   \n",
       "5      Lunch         Vegetarian  Total in 65 M   \n",
       "6     Dinner  Diabetic Friendly  Total in 40 M   \n",
       "7  Side Dish         Vegetarian  Total in 30 M   \n",
       "\n",
       "                                         ingredients  \\\n",
       "0  1/2 cup Semiya (Vermicelli), roasted\\t\\t\\t\\t\\t...   \n",
       "1  For ground masala\\t\\t\\t\\t\\t\\t\\t \\t\\t1/4 teaspo...   \n",
       "5  2 cups Cooked rice Ghee, or oil as required\\t\\...   \n",
       "6  2 Mooli/ Mullangi (Radish), (cleaned, peeled &...   \n",
       "7  500 grams Elephant yam (Suran/Senai/Ratalu), p...   \n",
       "\n",
       "                                        instructions  Calories  \n",
       "0  To begin making the Thayir Semiya recipe, firs...       350  \n",
       "1  To begin making the Chettinad Style Kara Kuzha...       300  \n",
       "5  To prepare Spicy Cabbage Rice recipe, firstly ...       220  \n",
       "6  To prepare Mullangi Curry(South Indian Style R...       300  \n",
       "7  To begin making the Karwar Style Surana Bhaji ...       300  "
      ]
     },
     "execution_count": 34,
     "metadata": {},
     "output_type": "execute_result"
    }
   ],
   "source": [
    "df.head()"
   ]
  },
  {
   "cell_type": "code",
   "execution_count": 35,
   "metadata": {},
   "outputs": [],
   "source": [
    "from sklearn.preprocessing import OneHotEncoder"
   ]
  },
  {
   "cell_type": "code",
   "execution_count": 36,
   "metadata": {},
   "outputs": [],
   "source": [
    "encoder = OneHotEncoder(handle_unknown='ignore')\n",
    "encoder_df = pd.DataFrame(encoder.fit_transform(df[['course']]).toarray())"
   ]
  },
  {
   "cell_type": "code",
   "execution_count": 37,
   "metadata": {},
   "outputs": [
    {
     "data": {
      "text/html": [
       "<div>\n",
       "<style scoped>\n",
       "    .dataframe tbody tr th:only-of-type {\n",
       "        vertical-align: middle;\n",
       "    }\n",
       "\n",
       "    .dataframe tbody tr th {\n",
       "        vertical-align: top;\n",
       "    }\n",
       "\n",
       "    .dataframe thead th {\n",
       "        text-align: right;\n",
       "    }\n",
       "</style>\n",
       "<table border=\"1\" class=\"dataframe\">\n",
       "  <thead>\n",
       "    <tr style=\"text-align: right;\">\n",
       "      <th></th>\n",
       "      <th>0</th>\n",
       "      <th>1</th>\n",
       "      <th>2</th>\n",
       "      <th>3</th>\n",
       "      <th>4</th>\n",
       "      <th>5</th>\n",
       "      <th>6</th>\n",
       "    </tr>\n",
       "  </thead>\n",
       "  <tbody>\n",
       "    <tr>\n",
       "      <th>0</th>\n",
       "      <td>0.0</td>\n",
       "      <td>0.0</td>\n",
       "      <td>0.0</td>\n",
       "      <td>1.0</td>\n",
       "      <td>0.0</td>\n",
       "      <td>0.0</td>\n",
       "      <td>0.0</td>\n",
       "    </tr>\n",
       "    <tr>\n",
       "      <th>1</th>\n",
       "      <td>0.0</td>\n",
       "      <td>0.0</td>\n",
       "      <td>0.0</td>\n",
       "      <td>1.0</td>\n",
       "      <td>0.0</td>\n",
       "      <td>0.0</td>\n",
       "      <td>0.0</td>\n",
       "    </tr>\n",
       "    <tr>\n",
       "      <th>2</th>\n",
       "      <td>0.0</td>\n",
       "      <td>0.0</td>\n",
       "      <td>0.0</td>\n",
       "      <td>1.0</td>\n",
       "      <td>0.0</td>\n",
       "      <td>0.0</td>\n",
       "      <td>0.0</td>\n",
       "    </tr>\n",
       "    <tr>\n",
       "      <th>3</th>\n",
       "      <td>0.0</td>\n",
       "      <td>0.0</td>\n",
       "      <td>1.0</td>\n",
       "      <td>0.0</td>\n",
       "      <td>0.0</td>\n",
       "      <td>0.0</td>\n",
       "      <td>0.0</td>\n",
       "    </tr>\n",
       "    <tr>\n",
       "      <th>4</th>\n",
       "      <td>0.0</td>\n",
       "      <td>0.0</td>\n",
       "      <td>0.0</td>\n",
       "      <td>0.0</td>\n",
       "      <td>0.0</td>\n",
       "      <td>1.0</td>\n",
       "      <td>0.0</td>\n",
       "    </tr>\n",
       "  </tbody>\n",
       "</table>\n",
       "</div>"
      ],
      "text/plain": [
       "     0    1    2    3    4    5    6\n",
       "0  0.0  0.0  0.0  1.0  0.0  0.0  0.0\n",
       "1  0.0  0.0  0.0  1.0  0.0  0.0  0.0\n",
       "2  0.0  0.0  0.0  1.0  0.0  0.0  0.0\n",
       "3  0.0  0.0  1.0  0.0  0.0  0.0  0.0\n",
       "4  0.0  0.0  0.0  0.0  0.0  1.0  0.0"
      ]
     },
     "execution_count": 37,
     "metadata": {},
     "output_type": "execute_result"
    }
   ],
   "source": [
    "encoder_df.head()"
   ]
  },
  {
   "cell_type": "code",
   "execution_count": 38,
   "metadata": {},
   "outputs": [],
   "source": [
    "df_new = pd.get_dummies(df, columns=['course'],dtype=int)"
   ]
  },
  {
   "cell_type": "code",
   "execution_count": 39,
   "metadata": {},
   "outputs": [
    {
     "data": {
      "text/html": [
       "<div>\n",
       "<style scoped>\n",
       "    .dataframe tbody tr th:only-of-type {\n",
       "        vertical-align: middle;\n",
       "    }\n",
       "\n",
       "    .dataframe tbody tr th {\n",
       "        vertical-align: top;\n",
       "    }\n",
       "\n",
       "    .dataframe thead th {\n",
       "        text-align: right;\n",
       "    }\n",
       "</style>\n",
       "<table border=\"1\" class=\"dataframe\">\n",
       "  <thead>\n",
       "    <tr style=\"text-align: right;\">\n",
       "      <th></th>\n",
       "      <th>name</th>\n",
       "      <th>description</th>\n",
       "      <th>cuisine</th>\n",
       "      <th>diet</th>\n",
       "      <th>prep_time</th>\n",
       "      <th>ingredients</th>\n",
       "      <th>instructions</th>\n",
       "      <th>Calories</th>\n",
       "      <th>course_Breakfast</th>\n",
       "      <th>course_Dessert</th>\n",
       "      <th>course_Dinner</th>\n",
       "      <th>course_Lunch</th>\n",
       "      <th>course_Main Course</th>\n",
       "      <th>course_Side Dish</th>\n",
       "      <th>course_Snack</th>\n",
       "    </tr>\n",
       "  </thead>\n",
       "  <tbody>\n",
       "    <tr>\n",
       "      <th>0</th>\n",
       "      <td>Thayir Semiya Recipe (Curd Semiya)</td>\n",
       "      <td>Thayir Semiya or Curd Vermicelli is a quick di...</td>\n",
       "      <td>Indian</td>\n",
       "      <td>Vegetarian</td>\n",
       "      <td>Total in 35 M</td>\n",
       "      <td>1/2 cup Semiya (Vermicelli), roasted\\t\\t\\t\\t\\t...</td>\n",
       "      <td>To begin making the Thayir Semiya recipe, firs...</td>\n",
       "      <td>350</td>\n",
       "      <td>0</td>\n",
       "      <td>0</td>\n",
       "      <td>0</td>\n",
       "      <td>1</td>\n",
       "      <td>0</td>\n",
       "      <td>0</td>\n",
       "      <td>0</td>\n",
       "    </tr>\n",
       "    <tr>\n",
       "      <th>1</th>\n",
       "      <td>Chettinad Style Kara Kuzhambu Recipe with Pota...</td>\n",
       "      <td>Chettinad Style Kara Kuzhambu Recipe with Pot...</td>\n",
       "      <td>South Indian Recipes</td>\n",
       "      <td>Vegetarian</td>\n",
       "      <td>Total in 75 M</td>\n",
       "      <td>For ground masala\\t\\t\\t\\t\\t\\t\\t \\t\\t1/4 teaspo...</td>\n",
       "      <td>To begin making the Chettinad Style Kara Kuzha...</td>\n",
       "      <td>300</td>\n",
       "      <td>0</td>\n",
       "      <td>0</td>\n",
       "      <td>0</td>\n",
       "      <td>1</td>\n",
       "      <td>0</td>\n",
       "      <td>0</td>\n",
       "      <td>0</td>\n",
       "    </tr>\n",
       "    <tr>\n",
       "      <th>5</th>\n",
       "      <td>Spicy Cabbage Rice Recipe (South Indian Style ...</td>\n",
       "      <td>Spicy Cabbage Rice takes very few ingredients ...</td>\n",
       "      <td>Indian</td>\n",
       "      <td>Vegetarian</td>\n",
       "      <td>Total in 65 M</td>\n",
       "      <td>2 cups Cooked rice Ghee, or oil as required\\t\\...</td>\n",
       "      <td>To prepare Spicy Cabbage Rice recipe, firstly ...</td>\n",
       "      <td>220</td>\n",
       "      <td>0</td>\n",
       "      <td>0</td>\n",
       "      <td>0</td>\n",
       "      <td>1</td>\n",
       "      <td>0</td>\n",
       "      <td>0</td>\n",
       "      <td>0</td>\n",
       "    </tr>\n",
       "    <tr>\n",
       "      <th>6</th>\n",
       "      <td>Mullangi Poriyal Recipe</td>\n",
       "      <td>Radish is called 'Mullangi' in Tamil. A juicy ...</td>\n",
       "      <td>Tamil Nadu</td>\n",
       "      <td>Diabetic Friendly</td>\n",
       "      <td>Total in 40 M</td>\n",
       "      <td>2 Mooli/ Mullangi (Radish), (cleaned, peeled &amp;...</td>\n",
       "      <td>To prepare Mullangi Curry(South Indian Style R...</td>\n",
       "      <td>300</td>\n",
       "      <td>0</td>\n",
       "      <td>0</td>\n",
       "      <td>1</td>\n",
       "      <td>0</td>\n",
       "      <td>0</td>\n",
       "      <td>0</td>\n",
       "      <td>0</td>\n",
       "    </tr>\n",
       "    <tr>\n",
       "      <th>7</th>\n",
       "      <td>Karwar Style Surana Bhaji Recipe - Hot and Sou...</td>\n",
       "      <td>Karwar Style Surana Bhaji Recipe - Hot and Sou...</td>\n",
       "      <td>Karnataka</td>\n",
       "      <td>Vegetarian</td>\n",
       "      <td>Total in 30 M</td>\n",
       "      <td>500 grams Elephant yam (Suran/Senai/Ratalu), p...</td>\n",
       "      <td>To begin making the Karwar Style Surana Bhaji ...</td>\n",
       "      <td>300</td>\n",
       "      <td>0</td>\n",
       "      <td>0</td>\n",
       "      <td>0</td>\n",
       "      <td>0</td>\n",
       "      <td>0</td>\n",
       "      <td>1</td>\n",
       "      <td>0</td>\n",
       "    </tr>\n",
       "  </tbody>\n",
       "</table>\n",
       "</div>"
      ],
      "text/plain": [
       "                                                name  \\\n",
       "0                 Thayir Semiya Recipe (Curd Semiya)   \n",
       "1  Chettinad Style Kara Kuzhambu Recipe with Pota...   \n",
       "5  Spicy Cabbage Rice Recipe (South Indian Style ...   \n",
       "6                           Mullangi Poriyal Recipe    \n",
       "7  Karwar Style Surana Bhaji Recipe - Hot and Sou...   \n",
       "\n",
       "                                         description               cuisine  \\\n",
       "0  Thayir Semiya or Curd Vermicelli is a quick di...                Indian   \n",
       "1   Chettinad Style Kara Kuzhambu Recipe with Pot...  South Indian Recipes   \n",
       "5  Spicy Cabbage Rice takes very few ingredients ...                Indian   \n",
       "6  Radish is called 'Mullangi' in Tamil. A juicy ...            Tamil Nadu   \n",
       "7  Karwar Style Surana Bhaji Recipe - Hot and Sou...             Karnataka   \n",
       "\n",
       "                diet      prep_time  \\\n",
       "0         Vegetarian  Total in 35 M   \n",
       "1         Vegetarian  Total in 75 M   \n",
       "5         Vegetarian  Total in 65 M   \n",
       "6  Diabetic Friendly  Total in 40 M   \n",
       "7         Vegetarian  Total in 30 M   \n",
       "\n",
       "                                         ingredients  \\\n",
       "0  1/2 cup Semiya (Vermicelli), roasted\\t\\t\\t\\t\\t...   \n",
       "1  For ground masala\\t\\t\\t\\t\\t\\t\\t \\t\\t1/4 teaspo...   \n",
       "5  2 cups Cooked rice Ghee, or oil as required\\t\\...   \n",
       "6  2 Mooli/ Mullangi (Radish), (cleaned, peeled &...   \n",
       "7  500 grams Elephant yam (Suran/Senai/Ratalu), p...   \n",
       "\n",
       "                                        instructions  Calories  \\\n",
       "0  To begin making the Thayir Semiya recipe, firs...       350   \n",
       "1  To begin making the Chettinad Style Kara Kuzha...       300   \n",
       "5  To prepare Spicy Cabbage Rice recipe, firstly ...       220   \n",
       "6  To prepare Mullangi Curry(South Indian Style R...       300   \n",
       "7  To begin making the Karwar Style Surana Bhaji ...       300   \n",
       "\n",
       "   course_Breakfast  course_Dessert  course_Dinner  course_Lunch  \\\n",
       "0                 0               0              0             1   \n",
       "1                 0               0              0             1   \n",
       "5                 0               0              0             1   \n",
       "6                 0               0              1             0   \n",
       "7                 0               0              0             0   \n",
       "\n",
       "   course_Main Course  course_Side Dish  course_Snack  \n",
       "0                   0                 0             0  \n",
       "1                   0                 0             0  \n",
       "5                   0                 0             0  \n",
       "6                   0                 0             0  \n",
       "7                   0                 1             0  "
      ]
     },
     "execution_count": 39,
     "metadata": {},
     "output_type": "execute_result"
    }
   ],
   "source": [
    "df_new.head()"
   ]
  },
  {
   "cell_type": "code",
   "execution_count": 40,
   "metadata": {},
   "outputs": [],
   "source": [
    "df_new=df_new.drop(['course_Dessert','course_Main Course','course_Side Dish','course_Snack'],axis=1)"
   ]
  },
  {
   "cell_type": "code",
   "execution_count": 41,
   "metadata": {},
   "outputs": [
    {
     "data": {
      "text/html": [
       "<div>\n",
       "<style scoped>\n",
       "    .dataframe tbody tr th:only-of-type {\n",
       "        vertical-align: middle;\n",
       "    }\n",
       "\n",
       "    .dataframe tbody tr th {\n",
       "        vertical-align: top;\n",
       "    }\n",
       "\n",
       "    .dataframe thead th {\n",
       "        text-align: right;\n",
       "    }\n",
       "</style>\n",
       "<table border=\"1\" class=\"dataframe\">\n",
       "  <thead>\n",
       "    <tr style=\"text-align: right;\">\n",
       "      <th></th>\n",
       "      <th>name</th>\n",
       "      <th>description</th>\n",
       "      <th>cuisine</th>\n",
       "      <th>diet</th>\n",
       "      <th>prep_time</th>\n",
       "      <th>ingredients</th>\n",
       "      <th>instructions</th>\n",
       "      <th>Calories</th>\n",
       "      <th>course_Breakfast</th>\n",
       "      <th>course_Dinner</th>\n",
       "      <th>course_Lunch</th>\n",
       "    </tr>\n",
       "  </thead>\n",
       "  <tbody>\n",
       "    <tr>\n",
       "      <th>0</th>\n",
       "      <td>Thayir Semiya Recipe (Curd Semiya)</td>\n",
       "      <td>Thayir Semiya or Curd Vermicelli is a quick di...</td>\n",
       "      <td>Indian</td>\n",
       "      <td>Vegetarian</td>\n",
       "      <td>Total in 35 M</td>\n",
       "      <td>1/2 cup Semiya (Vermicelli), roasted\\t\\t\\t\\t\\t...</td>\n",
       "      <td>To begin making the Thayir Semiya recipe, firs...</td>\n",
       "      <td>350</td>\n",
       "      <td>0</td>\n",
       "      <td>0</td>\n",
       "      <td>1</td>\n",
       "    </tr>\n",
       "    <tr>\n",
       "      <th>1</th>\n",
       "      <td>Chettinad Style Kara Kuzhambu Recipe with Pota...</td>\n",
       "      <td>Chettinad Style Kara Kuzhambu Recipe with Pot...</td>\n",
       "      <td>South Indian Recipes</td>\n",
       "      <td>Vegetarian</td>\n",
       "      <td>Total in 75 M</td>\n",
       "      <td>For ground masala\\t\\t\\t\\t\\t\\t\\t \\t\\t1/4 teaspo...</td>\n",
       "      <td>To begin making the Chettinad Style Kara Kuzha...</td>\n",
       "      <td>300</td>\n",
       "      <td>0</td>\n",
       "      <td>0</td>\n",
       "      <td>1</td>\n",
       "    </tr>\n",
       "    <tr>\n",
       "      <th>5</th>\n",
       "      <td>Spicy Cabbage Rice Recipe (South Indian Style ...</td>\n",
       "      <td>Spicy Cabbage Rice takes very few ingredients ...</td>\n",
       "      <td>Indian</td>\n",
       "      <td>Vegetarian</td>\n",
       "      <td>Total in 65 M</td>\n",
       "      <td>2 cups Cooked rice Ghee, or oil as required\\t\\...</td>\n",
       "      <td>To prepare Spicy Cabbage Rice recipe, firstly ...</td>\n",
       "      <td>220</td>\n",
       "      <td>0</td>\n",
       "      <td>0</td>\n",
       "      <td>1</td>\n",
       "    </tr>\n",
       "    <tr>\n",
       "      <th>6</th>\n",
       "      <td>Mullangi Poriyal Recipe</td>\n",
       "      <td>Radish is called 'Mullangi' in Tamil. A juicy ...</td>\n",
       "      <td>Tamil Nadu</td>\n",
       "      <td>Diabetic Friendly</td>\n",
       "      <td>Total in 40 M</td>\n",
       "      <td>2 Mooli/ Mullangi (Radish), (cleaned, peeled &amp;...</td>\n",
       "      <td>To prepare Mullangi Curry(South Indian Style R...</td>\n",
       "      <td>300</td>\n",
       "      <td>0</td>\n",
       "      <td>1</td>\n",
       "      <td>0</td>\n",
       "    </tr>\n",
       "    <tr>\n",
       "      <th>7</th>\n",
       "      <td>Karwar Style Surana Bhaji Recipe - Hot and Sou...</td>\n",
       "      <td>Karwar Style Surana Bhaji Recipe - Hot and Sou...</td>\n",
       "      <td>Karnataka</td>\n",
       "      <td>Vegetarian</td>\n",
       "      <td>Total in 30 M</td>\n",
       "      <td>500 grams Elephant yam (Suran/Senai/Ratalu), p...</td>\n",
       "      <td>To begin making the Karwar Style Surana Bhaji ...</td>\n",
       "      <td>300</td>\n",
       "      <td>0</td>\n",
       "      <td>0</td>\n",
       "      <td>0</td>\n",
       "    </tr>\n",
       "  </tbody>\n",
       "</table>\n",
       "</div>"
      ],
      "text/plain": [
       "                                                name  \\\n",
       "0                 Thayir Semiya Recipe (Curd Semiya)   \n",
       "1  Chettinad Style Kara Kuzhambu Recipe with Pota...   \n",
       "5  Spicy Cabbage Rice Recipe (South Indian Style ...   \n",
       "6                           Mullangi Poriyal Recipe    \n",
       "7  Karwar Style Surana Bhaji Recipe - Hot and Sou...   \n",
       "\n",
       "                                         description               cuisine  \\\n",
       "0  Thayir Semiya or Curd Vermicelli is a quick di...                Indian   \n",
       "1   Chettinad Style Kara Kuzhambu Recipe with Pot...  South Indian Recipes   \n",
       "5  Spicy Cabbage Rice takes very few ingredients ...                Indian   \n",
       "6  Radish is called 'Mullangi' in Tamil. A juicy ...            Tamil Nadu   \n",
       "7  Karwar Style Surana Bhaji Recipe - Hot and Sou...             Karnataka   \n",
       "\n",
       "                diet      prep_time  \\\n",
       "0         Vegetarian  Total in 35 M   \n",
       "1         Vegetarian  Total in 75 M   \n",
       "5         Vegetarian  Total in 65 M   \n",
       "6  Diabetic Friendly  Total in 40 M   \n",
       "7         Vegetarian  Total in 30 M   \n",
       "\n",
       "                                         ingredients  \\\n",
       "0  1/2 cup Semiya (Vermicelli), roasted\\t\\t\\t\\t\\t...   \n",
       "1  For ground masala\\t\\t\\t\\t\\t\\t\\t \\t\\t1/4 teaspo...   \n",
       "5  2 cups Cooked rice Ghee, or oil as required\\t\\...   \n",
       "6  2 Mooli/ Mullangi (Radish), (cleaned, peeled &...   \n",
       "7  500 grams Elephant yam (Suran/Senai/Ratalu), p...   \n",
       "\n",
       "                                        instructions  Calories  \\\n",
       "0  To begin making the Thayir Semiya recipe, firs...       350   \n",
       "1  To begin making the Chettinad Style Kara Kuzha...       300   \n",
       "5  To prepare Spicy Cabbage Rice recipe, firstly ...       220   \n",
       "6  To prepare Mullangi Curry(South Indian Style R...       300   \n",
       "7  To begin making the Karwar Style Surana Bhaji ...       300   \n",
       "\n",
       "   course_Breakfast  course_Dinner  course_Lunch  \n",
       "0                 0              0             1  \n",
       "1                 0              0             1  \n",
       "5                 0              0             1  \n",
       "6                 0              1             0  \n",
       "7                 0              0             0  "
      ]
     },
     "execution_count": 41,
     "metadata": {},
     "output_type": "execute_result"
    }
   ],
   "source": [
    "df_new.head()"
   ]
  },
  {
   "cell_type": "code",
   "execution_count": 42,
   "metadata": {},
   "outputs": [],
   "source": [
    "Breakfastdata = df_new['course_Breakfast']"
   ]
  },
  {
   "cell_type": "code",
   "execution_count": 43,
   "metadata": {},
   "outputs": [],
   "source": [
    "Food_itemsdata=df_new['name']"
   ]
  },
  {
   "cell_type": "code",
   "execution_count": 44,
   "metadata": {},
   "outputs": [],
   "source": [
    "BreakfastdataNumpy=Breakfastdata.to_numpy()"
   ]
  },
  {
   "cell_type": "code",
   "execution_count": 45,
   "metadata": {},
   "outputs": [],
   "source": [
    "breakfastfoodseparated = []\n",
    "breakfastfoodseparatedID = []\n",
    "\n",
    "# Ensure Food_itemsdata is accessed correctly\n",
    "for i in range(len(Breakfastdata)):\n",
    "    if BreakfastdataNumpy[i] == 1:\n",
    "        breakfastfoodseparated.append(Food_itemsdata.iloc[i])  # Use .iloc[i] to access by position\n",
    "        breakfastfoodseparatedID.append(i)\n"
   ]
  },
  {
   "cell_type": "code",
   "execution_count": 46,
   "metadata": {},
   "outputs": [],
   "source": [
    "breakfastfoodseparatedIDdata = df_new.iloc[breakfastfoodseparatedID]\n",
    "breakfastfoodseparatedIDdata=breakfastfoodseparatedIDdata.T\n",
    "breakfastfoodseparatedIDdata = breakfastfoodseparatedIDdata.drop(['course_Dinner','course_Lunch'])\n",
    "breakfastfoodseparatedIDdata=breakfastfoodseparatedIDdata.T"
   ]
  },
  {
   "cell_type": "code",
   "execution_count": 47,
   "metadata": {},
   "outputs": [
    {
     "data": {
      "text/plain": [
       "450"
      ]
     },
     "execution_count": 47,
     "metadata": {},
     "output_type": "execute_result"
    }
   ],
   "source": [
    "breakfastfoodseparatedIDdata['Calories'].max()"
   ]
  },
  {
   "cell_type": "code",
   "execution_count": 51,
   "metadata": {},
   "outputs": [],
   "source": [
    "import numpy as np\n",
    "import pandas as pd\n",
    "from sklearn.neighbors import NearestNeighbors\n",
    "from sklearn.ensemble import RandomForestRegressor"
   ]
  },
  {
   "cell_type": "code",
   "execution_count": 57,
   "metadata": {},
   "outputs": [],
   "source": [
    "from sklearn.neighbors import KNeighborsRegressor\n",
    "calorie_data = np.array(breakfastfoodseparatedIDdata['Calories']).reshape(-1, 1)\n",
    "knn = KNeighborsRegressor(n_neighbors=5)"
   ]
  },
  {
   "cell_type": "code",
   "execution_count": 64,
   "metadata": {},
   "outputs": [],
   "source": [
    "import numpy as np\n",
    "import pandas as pd\n",
    "from sklearn.neighbors import NearestNeighbors\n",
    "\n",
    "def recommend_knn(calorie_input, breakfast_df, diet_preference, n_neighbors=5):\n",
    "    \"\"\"\n",
    "    Recommend breakfast items using K-Nearest Neighbors based on calorie similarity.\n",
    "    \"\"\"\n",
    "    # Filter by diet preference\n",
    "    filtered_df = breakfast_df[breakfast_df[\"diet\"] == diet_preference]\n",
    "    if filtered_df.empty:\n",
    "        return f\"No {diet_preference} breakfast items available.\"\n",
    "\n",
    "    # Extract calorie values for KNN\n",
    "    calorie_data = filtered_df[['Calories']].values\n",
    "\n",
    "    # Fit KNN model\n",
    "    knn = NearestNeighbors(n_neighbors=min(n_neighbors, len(filtered_df)), metric='euclidean')\n",
    "    knn.fit(calorie_data)\n",
    "\n",
    "    # Find nearest neighbors\n",
    "    distances, indices = knn.kneighbors([[calorie_input]])\n",
    "    \n",
    "    # Get recommended items\n",
    "    recommended_items = filtered_df.iloc[indices[0]]\n",
    "\n",
    "    return recommended_items[['name', 'Calories', 'ingredients', 'instructions']]\n",
    "\n",
    "# Example usage:\n",
    "# calorie_input = 600\n",
    "# diet_preference = \"Vegetarian\"\n",
    "# recommendations = recommend_knn(calorie_input, breakfast_df, diet_preference)\n",
    "# print(recommendations)\n"
   ]
  },
  {
   "cell_type": "code",
   "execution_count": 67,
   "metadata": {},
   "outputs": [
    {
     "data": {
      "text/html": [
       "<div>\n",
       "<style scoped>\n",
       "    .dataframe tbody tr th:only-of-type {\n",
       "        vertical-align: middle;\n",
       "    }\n",
       "\n",
       "    .dataframe tbody tr th {\n",
       "        vertical-align: top;\n",
       "    }\n",
       "\n",
       "    .dataframe thead th {\n",
       "        text-align: right;\n",
       "    }\n",
       "</style>\n",
       "<table border=\"1\" class=\"dataframe\">\n",
       "  <thead>\n",
       "    <tr style=\"text-align: right;\">\n",
       "      <th></th>\n",
       "      <th>name</th>\n",
       "      <th>Calories</th>\n",
       "      <th>ingredients</th>\n",
       "      <th>instructions</th>\n",
       "    </tr>\n",
       "  </thead>\n",
       "  <tbody>\n",
       "    <tr>\n",
       "      <th>2574</th>\n",
       "      <td>Veggie Rava Idli Recipe- Healthy Breakfast Idli</td>\n",
       "      <td>350</td>\n",
       "      <td>1-1/2 cup Sooji (Semolina/ Rava) \\t\\t\\t\\t\\t\\t\\...</td>\n",
       "      <td>To begin making the Veggie Rava Idli recipe, i...</td>\n",
       "    </tr>\n",
       "    <tr>\n",
       "      <th>1935</th>\n",
       "      <td>Soya Keema Aloo Paratha Recipe</td>\n",
       "      <td>350</td>\n",
       "      <td>1-1/2 cups Whole Wheat Flour \\t\\t\\t\\t\\t\\t\\t \\t...</td>\n",
       "      <td>To begin making the Soya Keema Aloo Paratha Re...</td>\n",
       "    </tr>\n",
       "    <tr>\n",
       "      <th>2722</th>\n",
       "      <td>Egg Stuffed Paratha Recipe</td>\n",
       "      <td>350</td>\n",
       "      <td>2 cups Whole Wheat Flour \\t\\t\\t\\t\\t\\t\\t \\t\\t4 ...</td>\n",
       "      <td>To begin making Egg Stuffed Paratha Recipe, ma...</td>\n",
       "    </tr>\n",
       "    <tr>\n",
       "      <th>2652</th>\n",
       "      <td>Broccoli Keema And Cheese Uttapam Recipe</td>\n",
       "      <td>350</td>\n",
       "      <td>Ingredients for Broccoli Kheema\\t\\t\\t\\t\\t\\t\\t ...</td>\n",
       "      <td>To start making Broccoli Keema And Cheese Utta...</td>\n",
       "    </tr>\n",
       "    <tr>\n",
       "      <th>2051</th>\n",
       "      <td>Cabbage Paneer Paratha Recipe</td>\n",
       "      <td>320</td>\n",
       "      <td>Ingredients for dough\\t\\t\\t\\t\\t\\t\\t \\t\\t2 cups...</td>\n",
       "      <td>To begin making the Paneer Paratha Recipe, we ...</td>\n",
       "    </tr>\n",
       "  </tbody>\n",
       "</table>\n",
       "</div>"
      ],
      "text/plain": [
       "                                                  name Calories  \\\n",
       "2574  Veggie Rava Idli Recipe- Healthy Breakfast Idli       350   \n",
       "1935                   Soya Keema Aloo Paratha Recipe       350   \n",
       "2722                        Egg Stuffed Paratha Recipe      350   \n",
       "2652          Broccoli Keema And Cheese Uttapam Recipe      350   \n",
       "2051                    Cabbage Paneer Paratha Recipe       320   \n",
       "\n",
       "                                            ingredients  \\\n",
       "2574  1-1/2 cup Sooji (Semolina/ Rava) \\t\\t\\t\\t\\t\\t\\...   \n",
       "1935  1-1/2 cups Whole Wheat Flour \\t\\t\\t\\t\\t\\t\\t \\t...   \n",
       "2722  2 cups Whole Wheat Flour \\t\\t\\t\\t\\t\\t\\t \\t\\t4 ...   \n",
       "2652  Ingredients for Broccoli Kheema\\t\\t\\t\\t\\t\\t\\t ...   \n",
       "2051  Ingredients for dough\\t\\t\\t\\t\\t\\t\\t \\t\\t2 cups...   \n",
       "\n",
       "                                           instructions  \n",
       "2574  To begin making the Veggie Rava Idli recipe, i...  \n",
       "1935  To begin making the Soya Keema Aloo Paratha Re...  \n",
       "2722  To begin making Egg Stuffed Paratha Recipe, ma...  \n",
       "2652  To start making Broccoli Keema And Cheese Utta...  \n",
       "2051  To begin making the Paneer Paratha Recipe, we ...  "
      ]
     },
     "execution_count": 67,
     "metadata": {},
     "output_type": "execute_result"
    }
   ],
   "source": [
    "recommend_knn(350,breakfastfoodseparatedIDdata,'Vegetarian')"
   ]
  },
  {
   "cell_type": "code",
   "execution_count": null,
   "metadata": {},
   "outputs": [],
   "source": []
  }
 ],
 "metadata": {
  "kernelspec": {
   "display_name": "Python 3",
   "language": "python",
   "name": "python3"
  },
  "language_info": {
   "codemirror_mode": {
    "name": "ipython",
    "version": 3
   },
   "file_extension": ".py",
   "mimetype": "text/x-python",
   "name": "python",
   "nbconvert_exporter": "python",
   "pygments_lexer": "ipython3",
   "version": "3.12.5"
  }
 },
 "nbformat": 4,
 "nbformat_minor": 2
}
